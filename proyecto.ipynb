{
 "cells": [
  {
   "cell_type": "code",
   "execution_count": null,
   "metadata": {},
   "outputs": [],
   "source": [
    "# Create venv 'python3 -m venv .venv'\n",
    "# Activate venv 'source .venv/bin/activate'\n",
    "# Select the correct kernel.\n",
    "import json\n",
    "import requests\n",
    "import pandas as pd\n",
    "import cufflinks as cf\n",
    "import plotly.express as px\n",
    "import plotly.offline as pyo\n",
    "import plotly.io as pio\n",
    "from IPython.display import display, HTML\n",
    "\n",
    "pyo.init_notebook_mode(connected=True)\n",
    "\n",
    "enigh = '/Users/emanuelalarcon/Documents/Bases de datos/ENIGH/'\n",
    "\n",
    "viviendas = pd.read_csv(enigh + 'viviendas.csv')\n",
    "ingresos = pd.read_csv(enigh + 'ingresos.csv')\n",
    "hogares = pd.read_csv(enigh + 'hogares.csv')"
   ]
  },
  {
   "cell_type": "markdown",
   "metadata": {},
   "source": [
    "## Funciones y diccionarios"
   ]
  },
  {
   "cell_type": "code",
   "execution_count": 2,
   "metadata": {},
   "outputs": [],
   "source": [
    "def asignarTipoAdqui(row):\n",
    "    if row == '1':\n",
    "        return 'La compró hecha'\n",
    "    elif row == '2':\n",
    "        return 'La mandó construir'\n",
    "    elif row == '3':\n",
    "        return 'La construyó él mismo'\n",
    "    elif row == '4':\n",
    "        return 'La obtuvo de otra manera'\n",
    "    else:\n",
    "        return 'No es propia'"
   ]
  },
  {
   "cell_type": "code",
   "execution_count": 3,
   "metadata": {},
   "outputs": [],
   "source": [
    "claves_inegi = {\n",
    "    '01': 'Aguascalientes',\n",
    "    '02': 'Baja California',\n",
    "    '03': 'Baja California Sur',\n",
    "    '04': 'Campeche',\n",
    "    '05': 'Coahuila',\n",
    "    '06': 'Colima',\n",
    "    '07': 'Chiapas',\n",
    "    '08': 'Chihuahua',\n",
    "    '09': 'Ciudad de México',\n",
    "    '10': 'Durango',\n",
    "    '11': 'Guanajuato',\n",
    "    '12': 'Guerrero',\n",
    "    '13': 'Hidalgo',\n",
    "    '14': 'Jalisco',\n",
    "    '15': 'México',\n",
    "    '16': 'Michoacán',\n",
    "    '17': 'Morelos',\n",
    "    '18': 'Nayarit',\n",
    "    '19': 'Nuevo León',\n",
    "    '20': 'Oaxaca',\n",
    "    '21': 'Puebla',\n",
    "    '22': 'Querétaro',\n",
    "    '23': 'Quintana Roo',\n",
    "    '24': 'San Luis Potosí',\n",
    "    '25': 'Sinaloa',\n",
    "    '26': 'Sonora',\n",
    "    '27': 'Tabasco',\n",
    "    '28': 'Tamaulipas',\n",
    "    '29': 'Tlaxcala',\n",
    "    '30': 'Veracruz',\n",
    "    '31': 'Yucatán',\n",
    "    '32': 'Zacatecas'\n",
    "}"
   ]
  },
  {
   "cell_type": "markdown",
   "metadata": {},
   "source": [
    "## Tipo de adquisición"
   ]
  },
  {
   "cell_type": "code",
   "execution_count": null,
   "metadata": {},
   "outputs": [],
   "source": [
    "dfTipoAdqui = viviendas[['folioviv', 'tipo_adqui', 'factor']]\n",
    "dfTipoAdqui"
   ]
  },
  {
   "cell_type": "code",
   "execution_count": null,
   "metadata": {},
   "outputs": [],
   "source": [
    "dfTipoAdqui['tipo_adqui'] = dfTipoAdqui.tipo_adqui.apply(asignarTipoAdqui)\n",
    "dfTipoAdqui"
   ]
  },
  {
   "cell_type": "code",
   "execution_count": null,
   "metadata": {},
   "outputs": [],
   "source": [
    "dfTipoAdquiResumida = dfTipoAdqui.groupby('tipo_adqui').agg(viviendas=('factor', 'sum')).reset_index()\n",
    "dfTipoAdquiResumida"
   ]
  },
  {
   "cell_type": "code",
   "execution_count": null,
   "metadata": {},
   "outputs": [],
   "source": [
    "totalViviendas = dfTipoAdquiResumida['viviendas'].sum()\n",
    "print(totalViviendas)"
   ]
  },
  {
   "cell_type": "code",
   "execution_count": null,
   "metadata": {},
   "outputs": [],
   "source": [
    "dfTipoAdquiResumida['porcentaje'] = (dfTipoAdquiResumida['viviendas'] / totalViviendas * 100).round(1)\n",
    "dfTipoAdquiResumida"
   ]
  },
  {
   "cell_type": "code",
   "execution_count": null,
   "metadata": {},
   "outputs": [],
   "source": [
    "dfTipoAdquiResumida = dfTipoAdquiResumida.sort_values(by='porcentaje', ascending=True)\n",
    "dfTipoAdquiResumida"
   ]
  },
  {
   "cell_type": "code",
   "execution_count": null,
   "metadata": {},
   "outputs": [],
   "source": [
    "fig1 = px.bar(dfTipoAdquiResumida,\n",
    "             title='Tipo de Adquisición de la Vivienda en México como Porcentaje del Total',\n",
    "             x='porcentaje',\n",
    "             y='tipo_adqui',\n",
    "             #color_discrete_sequence=['#bf282a']\n",
    "             labels={\n",
    "                 'porcentaje' : 'Porcentaje de viviendas',\n",
    "                 'tipo_adqui' : 'Tipo de adquisición'\n",
    "             }\n",
    "             )\n",
    "fig1.update_layout(\n",
    "    xaxis_title='Porcentaje',\n",
    "    yaxis_title='Tipo de Adquisición',\n",
    "    annotations=[\n",
    "        dict(\n",
    "            x=1,\n",
    "            y=-0.15,\n",
    "            showarrow=False,\n",
    "            text='Fuente: Elaboración propia con datos de la ENIGH, 2022',\n",
    "            xref='paper',\n",
    "            yref='paper',\n",
    "            xanchor='right',\n",
    "            yanchor='top',\n",
    "            font=dict(size=12, color='gray')\n",
    "        )\n",
    "    ]\n",
    ")\n",
    "\n",
    "fig1.show()"
   ]
  },
  {
   "cell_type": "markdown",
   "metadata": {},
   "source": [
    "## Renta como porcentaje del ingreso"
   ]
  },
  {
   "cell_type": "code",
   "execution_count": null,
   "metadata": {},
   "outputs": [],
   "source": [
    "dfRentaHogar = viviendas[['folioviv', 'renta', 'factor']]\n",
    "dfRentaHogar"
   ]
  },
  {
   "cell_type": "code",
   "execution_count": null,
   "metadata": {},
   "outputs": [],
   "source": [
    "dfIngresoHogar = ingresos[['folioviv', 'foliohog', 'ing_tri']]\n",
    "dfIngresoHogar"
   ]
  },
  {
   "cell_type": "code",
   "execution_count": null,
   "metadata": {},
   "outputs": [],
   "source": [
    "dfRentaIngreso = pd.merge(dfRentaHogar, dfIngresoHogar, on='folioviv', how='inner')\n",
    "dfRentaIngreso"
   ]
  },
  {
   "cell_type": "code",
   "execution_count": null,
   "metadata": {},
   "outputs": [],
   "source": [
    "dfRentaIngresoTotal = dfRentaIngreso.groupby(['folioviv', 'foliohog']).agg(ingreso_total_hogar_tri=('ing_tri', 'sum')).reset_index()\n",
    "dfRentaIngresoTotal"
   ]
  },
  {
   "cell_type": "code",
   "execution_count": null,
   "metadata": {},
   "outputs": [],
   "source": [
    "dfRentaIngresoTotal['ingreso_total_hogar_men'] = (dfRentaIngresoTotal['ingreso_total_hogar_tri'] / 3).round(2)\n",
    "dfRentaIngresoTotal"
   ]
  },
  {
   "cell_type": "code",
   "execution_count": null,
   "metadata": {},
   "outputs": [],
   "source": [
    "dfRentaHogar = pd.merge(dfRentaHogar, dfRentaIngresoTotal[['folioviv', 'foliohog' ,'ingreso_total_hogar_men']], on='folioviv', how='inner')\n",
    "dfRentaHogar"
   ]
  },
  {
   "cell_type": "code",
   "execution_count": null,
   "metadata": {},
   "outputs": [],
   "source": [
    "dfRentaHogar['renta'] = dfRentaHogar['renta'].replace(\" \", 0)\n",
    "dfRentaHogar"
   ]
  },
  {
   "cell_type": "code",
   "execution_count": null,
   "metadata": {},
   "outputs": [],
   "source": [
    "dfRentaHogar.dtypes"
   ]
  },
  {
   "cell_type": "code",
   "execution_count": null,
   "metadata": {},
   "outputs": [],
   "source": [
    "dfRentaHogar['renta'] = pd.to_numeric(dfRentaHogar['renta'])\n",
    "dfRentaHogar"
   ]
  },
  {
   "cell_type": "code",
   "execution_count": null,
   "metadata": {},
   "outputs": [],
   "source": [
    "dfRentaHogar.dtypes"
   ]
  },
  {
   "cell_type": "code",
   "execution_count": null,
   "metadata": {},
   "outputs": [],
   "source": [
    "dfRentaHogar = dfRentaHogar[(dfRentaHogar['renta'] > 0)]\n",
    "dfRentaHogar"
   ]
  },
  {
   "cell_type": "code",
   "execution_count": null,
   "metadata": {},
   "outputs": [],
   "source": [
    "dfRentaHogar['num_hogares'] = dfRentaHogar.groupby('folioviv')['foliohog'].transform('count')\n",
    "dfRentaHogar"
   ]
  },
  {
   "cell_type": "code",
   "execution_count": null,
   "metadata": {},
   "outputs": [],
   "source": [
    "dfRentaHogar[dfRentaHogar['num_hogares'] > 1]"
   ]
  },
  {
   "cell_type": "code",
   "execution_count": null,
   "metadata": {},
   "outputs": [],
   "source": [
    "dfRentaHogar = dfRentaHogar[['folioviv', 'foliohog', 'renta', 'ingreso_total_hogar_men', 'num_hogares', 'factor']]\n",
    "dfRentaHogar"
   ]
  },
  {
   "cell_type": "code",
   "execution_count": null,
   "metadata": {},
   "outputs": [],
   "source": [
    "dfRentaHogar['renta_hogar_men'] = (dfRentaHogar['renta'] / dfRentaHogar['num_hogares']).round(2)\n",
    "dfRentaHogar"
   ]
  },
  {
   "cell_type": "code",
   "execution_count": null,
   "metadata": {},
   "outputs": [],
   "source": [
    "dfRentaHogar['porcentaje_en_renta'] = (dfRentaHogar['renta_hogar_men'] / dfRentaHogar['ingreso_total_hogar_men'] * 100).round(2)\n",
    "dfRentaHogar"
   ]
  },
  {
   "cell_type": "code",
   "execution_count": null,
   "metadata": {},
   "outputs": [],
   "source": [
    "dfRentaHogar['quintil'] = pd.qcut(dfRentaHogar['ingreso_total_hogar_men'], q=5, labels=False) + 1\n",
    "dfRentaHogar"
   ]
  },
  {
   "cell_type": "code",
   "execution_count": null,
   "metadata": {},
   "outputs": [],
   "source": [
    "dfRentaHogarPlot = dfRentaHogar[['porcentaje_en_renta', 'quintil', 'factor']]\n",
    "dfRentaHogarPlot"
   ]
  },
  {
   "cell_type": "code",
   "execution_count": null,
   "metadata": {},
   "outputs": [],
   "source": [
    "dfRentaHogarPlot = dfRentaHogarPlot.loc[dfRentaHogarPlot.index.repeat(dfRentaHogarPlot['factor'].round())].reset_index(drop=True)\n",
    "dfRentaHogarPlot"
   ]
  },
  {
   "cell_type": "code",
   "execution_count": null,
   "metadata": {},
   "outputs": [],
   "source": [
    "dfRentaHogarPlot = dfRentaHogarPlot.drop(columns='factor')\n",
    "dfRentaHogarPlot"
   ]
  },
  {
   "cell_type": "code",
   "execution_count": null,
   "metadata": {},
   "outputs": [],
   "source": [
    "fig2 = px.box(\n",
    "    dfRentaHogarPlot,\n",
    "    x='quintil',\n",
    "    y='porcentaje_en_renta',\n",
    "    title='Gasto en Arrendamiento como Porcentaje del Ingreso por Decil en México, Mensual'\n",
    ")\n",
    "fig2.update_layout(\n",
    "    xaxis_title='Quintil',\n",
    "    yaxis_title='Porcentaje del ingreso destinado al arrendamiento',\n",
    "    annotations=[\n",
    "        dict(\n",
    "            x=1,\n",
    "            y=-0.15,\n",
    "            showarrow=False,\n",
    "            text='Fuente: Elaboración propia con datos de la ENIGH, 2022',\n",
    "            xref='paper',\n",
    "            yref='paper',\n",
    "            xanchor='right',\n",
    "            yanchor='top',\n",
    "            font=dict(size=12, color='gray')\n",
    "        )\n",
    "    ]\n",
    ")\n",
    "fig2.update_yaxes(range=[0, 100])\n",
    "\n",
    "fig2.show()"
   ]
  },
  {
   "cell_type": "markdown",
   "metadata": {},
   "source": [
    "## Arrendamiento medio por estado de la República"
   ]
  },
  {
   "cell_type": "code",
   "execution_count": null,
   "metadata": {},
   "outputs": [],
   "source": [
    "dfEntidadVivienda = hogares[['folioviv', 'entidad']]\n",
    "dfEntidadVivienda"
   ]
  },
  {
   "cell_type": "code",
   "execution_count": null,
   "metadata": {},
   "outputs": [],
   "source": [
    "dfEntidadVivienda.dtypes"
   ]
  },
  {
   "cell_type": "code",
   "execution_count": null,
   "metadata": {},
   "outputs": [],
   "source": [
    "dfEntidadVivienda['entidad'] = dfEntidadVivienda['entidad'].astype(str).str.zfill(2)\n",
    "dfEntidadVivienda"
   ]
  },
  {
   "cell_type": "code",
   "execution_count": null,
   "metadata": {},
   "outputs": [],
   "source": [
    "dfEntidadVivienda['entidad'] = dfEntidadVivienda['entidad'].map(claves_inegi)\n",
    "dfEntidadVivienda"
   ]
  },
  {
   "cell_type": "code",
   "execution_count": null,
   "metadata": {},
   "outputs": [],
   "source": [
    "valoresUnicosFoioViv = viviendas['folioviv'].unique()\n",
    "valoresUnicosFoioViv.size"
   ]
  },
  {
   "cell_type": "code",
   "execution_count": null,
   "metadata": {},
   "outputs": [],
   "source": [
    "dfArrendamientoEntidad = pd.DataFrame({'folioviv' : valoresUnicosFoioViv})\n",
    "dfArrendamientoEntidad"
   ]
  },
  {
   "cell_type": "code",
   "execution_count": null,
   "metadata": {},
   "outputs": [],
   "source": [
    "dfRentaViv = viviendas[['folioviv', 'renta', 'factor']]\n",
    "dfRentaViv"
   ]
  },
  {
   "cell_type": "code",
   "execution_count": null,
   "metadata": {},
   "outputs": [],
   "source": [
    "dfArrendamientoEntidad = pd.merge(dfArrendamientoEntidad, dfRentaViv, on='folioviv', how='inner')\n",
    "dfArrendamientoEntidad"
   ]
  },
  {
   "cell_type": "code",
   "execution_count": null,
   "metadata": {},
   "outputs": [],
   "source": [
    "dfArrendamientoEntidad['folioviv'].unique"
   ]
  },
  {
   "cell_type": "code",
   "execution_count": null,
   "metadata": {},
   "outputs": [],
   "source": [
    "dfEntidadVivienda = dfEntidadVivienda.drop_duplicates(subset='folioviv')\n",
    "dfEntidadVivienda"
   ]
  },
  {
   "cell_type": "code",
   "execution_count": null,
   "metadata": {},
   "outputs": [],
   "source": [
    "dfEntidadVivienda"
   ]
  },
  {
   "cell_type": "code",
   "execution_count": null,
   "metadata": {},
   "outputs": [],
   "source": [
    "dfArrendamientoEntidad = pd.merge(dfArrendamientoEntidad, dfEntidadVivienda, on='folioviv', how='left')\n",
    "dfArrendamientoEntidad"
   ]
  },
  {
   "cell_type": "code",
   "execution_count": null,
   "metadata": {},
   "outputs": [],
   "source": [
    "dfArrendamientoEntidad.dtypes"
   ]
  },
  {
   "cell_type": "code",
   "execution_count": null,
   "metadata": {},
   "outputs": [],
   "source": [
    "dfArrendamientoEntidad['renta'] = dfArrendamientoEntidad['renta'].astype(int)\n",
    "dfArrendamientoEntidad"
   ]
  },
  {
   "cell_type": "code",
   "execution_count": null,
   "metadata": {},
   "outputs": [],
   "source": [
    "dfArrendamientoEntidad = dfArrendamientoEntidad[dfArrendamientoEntidad['renta'] > 0]\n",
    "dfArrendamientoEntidad"
   ]
  },
  {
   "cell_type": "code",
   "execution_count": null,
   "metadata": {},
   "outputs": [],
   "source": [
    "dfArrendamientoEntidad['renta_por_factor'] = dfArrendamientoEntidad['renta'] * dfArrendamientoEntidad['factor']\n",
    "dfArrendamientoEntidad"
   ]
  },
  {
   "cell_type": "code",
   "execution_count": null,
   "metadata": {},
   "outputs": [],
   "source": [
    "dfArrendamientoEntidad.sample(15)"
   ]
  },
  {
   "cell_type": "code",
   "execution_count": null,
   "metadata": {},
   "outputs": [],
   "source": [
    "factoresPorEstado = dfArrendamientoEntidad.groupby('entidad')['factor'].sum().reset_index()\n",
    "factoresPorEstado"
   ]
  },
  {
   "cell_type": "code",
   "execution_count": null,
   "metadata": {},
   "outputs": [],
   "source": [
    "test = dfArrendamientoEntidad[dfArrendamientoEntidad['entidad'] == 'Ciudad de México']['factor'].sum()\n",
    "print(test)"
   ]
  },
  {
   "cell_type": "code",
   "execution_count": null,
   "metadata": {},
   "outputs": [],
   "source": [
    "dfArrendamientoEntidad = dfArrendamientoEntidad.groupby('entidad')['renta_por_factor'].sum().reset_index()\n",
    "dfArrendamientoEntidad"
   ]
  },
  {
   "cell_type": "code",
   "execution_count": null,
   "metadata": {},
   "outputs": [],
   "source": [
    "dfArrendamientoEntidad = pd.merge(dfArrendamientoEntidad, factoresPorEstado, on='entidad', how='inner')\n",
    "dfArrendamientoEntidad"
   ]
  },
  {
   "cell_type": "code",
   "execution_count": null,
   "metadata": {},
   "outputs": [],
   "source": [
    "dfArrendamientoEntidad['arrendamiento_medio'] = (dfArrendamientoEntidad['renta_por_factor'] / dfArrendamientoEntidad['factor']).round(2)\n",
    "dfArrendamientoEntidad"
   ]
  },
  {
   "cell_type": "code",
   "execution_count": 159,
   "metadata": {},
   "outputs": [],
   "source": [
    "geojson_url = 'https://raw.githubusercontent.com/angelnmara/geojson/master/mexicoHigh.json'\n",
    "geojson = requests.get(geojson_url).json()"
   ]
  },
  {
   "cell_type": "code",
   "execution_count": null,
   "metadata": {},
   "outputs": [],
   "source": [
    "fig3 = px.choropleth(dfArrendamientoEntidad,\n",
    "                    geojson=geojson,\n",
    "                    locations='entidad',\n",
    "                    featureidkey=\"properties.name\",\n",
    "                    color='arrendamiento_medio',\n",
    "                    color_continuous_scale=\"burg\",\n",
    "                    title='Arrendamiento Medio por Entidad Federativa',\n",
    "                    )\n",
    "\n",
    "fig3.update_geos(fitbounds=\"locations\", visible=False)\n",
    "fig3.update_traces(marker_line_width=0.1)\n",
    "\n",
    "fig3.update_layout(\n",
    "    title_font=dict(color='rgb(47,62,92)'),\n",
    "    geo_bgcolor='rgba(0,0,0,0)',\n",
    "    margin={\"r\":0,\"t\":50,\"l\":0,\"b\":0},\n",
    "    coloraxis_colorbar=dict(\n",
    "        title=\"Media\",\n",
    "        lenmode=\"fraction\", len=0.75\n",
    "    ),\n",
    "    width=1144,\n",
    "    height=384,\n",
    "    annotations=[\n",
    "        dict(\n",
    "            x=1,\n",
    "            y=1,\n",
    "            showarrow=False,\n",
    "            text='Fuente: Elaboración propia con datos de la ENIGH, 2022',\n",
    "            xref='paper',\n",
    "            yref='paper',\n",
    "            xanchor='right',\n",
    "            yanchor='top',\n",
    "            font=dict(size=12, color='gray')\n",
    "        )\n",
    "    ]\n",
    ")\n",
    "\n",
    "fig3.show()"
   ]
  }
 ],
 "metadata": {
  "kernelspec": {
   "display_name": ".venv",
   "language": "python",
   "name": "python3"
  },
  "language_info": {
   "codemirror_mode": {
    "name": "ipython",
    "version": 3
   },
   "file_extension": ".py",
   "mimetype": "text/x-python",
   "name": "python",
   "nbconvert_exporter": "python",
   "pygments_lexer": "ipython3",
   "version": "3.13.0"
  }
 },
 "nbformat": 4,
 "nbformat_minor": 2
}
